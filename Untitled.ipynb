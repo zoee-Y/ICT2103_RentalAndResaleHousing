{
 "cells": [
  {
   "cell_type": "code",
   "execution_count": 1,
   "id": "53c87943",
   "metadata": {},
   "outputs": [],
   "source": [
    "import pandas as pd"
   ]
  },
  {
   "cell_type": "code",
   "execution_count": 4,
   "id": "2ec09655",
   "metadata": {},
   "outputs": [],
   "source": [
    "df = pd.read_csv(\"resale data.csv\")"
   ]
  },
  {
   "cell_type": "code",
   "execution_count": 7,
   "id": "81b00fa0",
   "metadata": {
    "scrolled": false
   },
   "outputs": [
    {
     "data": {
      "text/html": [
       "<div>\n",
       "<style scoped>\n",
       "    .dataframe tbody tr th:only-of-type {\n",
       "        vertical-align: middle;\n",
       "    }\n",
       "\n",
       "    .dataframe tbody tr th {\n",
       "        vertical-align: top;\n",
       "    }\n",
       "\n",
       "    .dataframe thead th {\n",
       "        text-align: right;\n",
       "    }\n",
       "</style>\n",
       "<table border=\"1\" class=\"dataframe\">\n",
       "  <thead>\n",
       "    <tr style=\"text-align: right;\">\n",
       "      <th></th>\n",
       "      <th>resale_price</th>\n",
       "      <th>town</th>\n",
       "      <th>remaining_lease</th>\n",
       "      <th>flat_type</th>\n",
       "      <th>floor_area_sqm</th>\n",
       "    </tr>\n",
       "  </thead>\n",
       "  <tbody>\n",
       "    <tr>\n",
       "      <th>0</th>\n",
       "      <td>200000.0</td>\n",
       "      <td>BUKIT MERAH</td>\n",
       "      <td>57 years</td>\n",
       "      <td>1</td>\n",
       "      <td>31.0</td>\n",
       "    </tr>\n",
       "    <tr>\n",
       "      <th>1</th>\n",
       "      <td>218000.0</td>\n",
       "      <td>BUKIT MERAH</td>\n",
       "      <td>57 years</td>\n",
       "      <td>1</td>\n",
       "      <td>31.0</td>\n",
       "    </tr>\n",
       "    <tr>\n",
       "      <th>2</th>\n",
       "      <td>217000.0</td>\n",
       "      <td>BUKIT MERAH</td>\n",
       "      <td>56 years 10 months</td>\n",
       "      <td>1</td>\n",
       "      <td>31.0</td>\n",
       "    </tr>\n",
       "    <tr>\n",
       "      <th>3</th>\n",
       "      <td>175000.0</td>\n",
       "      <td>BUKIT MERAH</td>\n",
       "      <td>56 years 08 months</td>\n",
       "      <td>1</td>\n",
       "      <td>31.0</td>\n",
       "    </tr>\n",
       "    <tr>\n",
       "      <th>4</th>\n",
       "      <td>203000.0</td>\n",
       "      <td>BUKIT MERAH</td>\n",
       "      <td>56 years 08 months</td>\n",
       "      <td>1</td>\n",
       "      <td>31.0</td>\n",
       "    </tr>\n",
       "  </tbody>\n",
       "</table>\n",
       "</div>"
      ],
      "text/plain": [
       "   resale_price         town     remaining_lease flat_type  floor_area_sqm\n",
       "0      200000.0  BUKIT MERAH            57 years         1            31.0\n",
       "1      218000.0  BUKIT MERAH            57 years         1            31.0\n",
       "2      217000.0  BUKIT MERAH  56 years 10 months         1            31.0\n",
       "3      175000.0  BUKIT MERAH  56 years 08 months         1            31.0\n",
       "4      203000.0  BUKIT MERAH  56 years 08 months         1            31.0"
      ]
     },
     "execution_count": 7,
     "metadata": {},
     "output_type": "execute_result"
    }
   ],
   "source": [
    "df.head()"
   ]
  },
  {
   "cell_type": "code",
   "execution_count": 7,
   "id": "8254c02e",
   "metadata": {},
   "outputs": [],
   "source": [
    "def convert_year(date):\n",
    "    if \"Jan\" in date:\n",
    "        return \"Jan\"\n",
    "    elif \"Feb\" in date:\n",
    "        return \"Feb\"\n",
    "    elif \"Mar\" in date:\n",
    "        return \"Mar\"\n",
    "    elif \"Apr\" in date:\n",
    "        return \"Apr\"\n",
    "    elif \"Jun\" in date:\n",
    "        return \"Jun\"\n",
    "    elif \"Jul\" in date:\n",
    "        return \"Jul\"\n",
    "    elif \"Aug\" in date:\n",
    "        return \"Aug\"\n",
    "    elif \"Sep\" in date:\n",
    "        return \"Sep\"\n",
    "    elif \"Oct\" in date:\n",
    "        return \"Oct\"\n",
    "    elif \"Nov\" in date:\n",
    "        return \"Nov\"\n",
    "    else:\n",
    "        return \"Sep\"\n",
    "\n",
    "df[\"Lease Commencement Month\"] = df[\"Lease Commencement Date\"].apply(convert_year)"
   ]
  },
  {
   "cell_type": "code",
   "execution_count": 8,
   "id": "7831b7ed",
   "metadata": {},
   "outputs": [],
   "source": [
    "def convert_year(date):\n",
    "    if \"22\" in date:\n",
    "        return \"2022\"\n",
    "    elif \"21\" in date:\n",
    "        return \"2021\"\n",
    "    elif \"20\" in date:\n",
    "        return \"2020\"\n",
    "    elif \"19\" in date:\n",
    "        return \"2019\"\n",
    "    elif \"18\" in date:\n",
    "        return \"2018\"\n",
    "    else:\n",
    "        return \"2017\"\n",
    "   \n",
    "\n",
    "df[\"Lease Commencement Year\"] = df[\"Lease Commencement Date\"].apply(convert_year)"
   ]
  },
  {
   "cell_type": "code",
   "execution_count": 10,
   "id": "5d1ca9e8",
   "metadata": {},
   "outputs": [],
   "source": [
    "df.to_csv(\"rental data-updated.csv\")"
   ]
  },
  {
   "cell_type": "code",
   "execution_count": 6,
   "id": "4ce1ccda",
   "metadata": {},
   "outputs": [],
   "source": [
    "def convert_year(date):\n",
    "    return ''.join(filter(str.isdigit, date))\n",
    "   \n",
    "\n",
    "df[\"flat_type\"] = df[\"flat_type\"].apply(convert_year)"
   ]
  },
  {
   "cell_type": "code",
   "execution_count": 8,
   "id": "e9628cb4",
   "metadata": {},
   "outputs": [],
   "source": [
    "df.to_csv(\"resale data-updated.csv\")"
   ]
  },
  {
   "cell_type": "code",
   "execution_count": null,
   "id": "d344a645",
   "metadata": {},
   "outputs": [],
   "source": []
  }
 ],
 "metadata": {
  "kernelspec": {
   "display_name": "Python 3 (ipykernel)",
   "language": "python",
   "name": "python3"
  },
  "language_info": {
   "codemirror_mode": {
    "name": "ipython",
    "version": 3
   },
   "file_extension": ".py",
   "mimetype": "text/x-python",
   "name": "python",
   "nbconvert_exporter": "python",
   "pygments_lexer": "ipython3",
   "version": "3.9.12"
  }
 },
 "nbformat": 4,
 "nbformat_minor": 5
}
